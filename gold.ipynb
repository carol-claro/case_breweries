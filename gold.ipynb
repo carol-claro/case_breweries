{
 "cells": [
  {
   "cell_type": "markdown",
   "metadata": {
    "application/vnd.databricks.v1+cell": {
     "cellMetadata": {},
     "inputWidgets": {},
     "nuid": "25a703c1-a646-49c9-94a9-8aa9a4420aa0",
     "showTitle": false,
     "title": ""
    }
   },
   "source": [
    "# 1. Import Dependencies"
   ]
  },
  {
   "cell_type": "code",
   "execution_count": 0,
   "metadata": {
    "application/vnd.databricks.v1+cell": {
     "cellMetadata": {
      "byteLimit": 2048000,
      "rowLimit": 10000
     },
     "inputWidgets": {},
     "nuid": "fb1f15b8-4121-42f4-bc65-12811e11f8fb",
     "showTitle": false,
     "title": ""
    }
   },
   "outputs": [],
   "source": [
    "from pyspark.sql import SparkSession\n",
    "from pyspark.sql.functions import count, countDistinct, when, col"
   ]
  },
  {
   "cell_type": "code",
   "execution_count": 0,
   "metadata": {
    "application/vnd.databricks.v1+cell": {
     "cellMetadata": {
      "byteLimit": 2048000,
      "rowLimit": 10000
     },
     "inputWidgets": {},
     "nuid": "1d896529-62fd-41f7-b280-f6c255e3e94f",
     "showTitle": false,
     "title": ""
    }
   },
   "outputs": [],
   "source": [
    "df_silver = spark.table(\"silver.tbl_breweries\")"
   ]
  },
  {
   "cell_type": "markdown",
   "metadata": {
    "application/vnd.databricks.v1+cell": {
     "cellMetadata": {},
     "inputWidgets": {},
     "nuid": "8e4577c6-828b-4f7a-82d5-eae399bffb5e",
     "showTitle": false,
     "title": ""
    }
   },
   "source": [
    "#2. Transform data"
   ]
  },
  {
   "cell_type": "markdown",
   "metadata": {
    "application/vnd.databricks.v1+cell": {
     "cellMetadata": {},
     "inputWidgets": {},
     "nuid": "329d29f7-89ce-4f1d-a86c-cf48e004bde8",
     "showTitle": false,
     "title": ""
    }
   },
   "source": [
    "Transformando data para trazer a region e a agregação solicitada"
   ]
  },
  {
   "cell_type": "code",
   "execution_count": 0,
   "metadata": {
    "application/vnd.databricks.v1+cell": {
     "cellMetadata": {
      "byteLimit": 2048000,
      "rowLimit": 10000
     },
     "inputWidgets": {},
     "nuid": "b7aed81f-b927-4e1e-90e7-3d9c64e0d316",
     "showTitle": false,
     "title": ""
    }
   },
   "outputs": [
    {
     "output_type": "display_data",
     "data": {
      "text/html": [
       "<style scoped>\n",
       "  .table-result-container {\n",
       "    max-height: 300px;\n",
       "    overflow: auto;\n",
       "  }\n",
       "  table, th, td {\n",
       "    border: 1px solid black;\n",
       "    border-collapse: collapse;\n",
       "  }\n",
       "  th, td {\n",
       "    padding: 5px;\n",
       "  }\n",
       "  th {\n",
       "    text-align: left;\n",
       "  }\n",
       "</style><div class='table-result-container'><table class='table-result'><thead style='background-color: white'><tr><th>country</th><th>state_province</th><th>region</th><th>brewery_type</th><th>quantity</th><th>breweries</th></tr></thead><tbody><tr><td>Ireland</td><td>Laois</td><td>Laois</td><td>micro</td><td>1</td><td>1</td></tr><tr><td>USA</td><td>Arizona</td><td>Southwest</td><td>micro</td><td>3</td><td>3</td></tr><tr><td>USA</td><td>California</td><td>West</td><td>closed</td><td>1</td><td>1</td></tr><tr><td>USA</td><td>California</td><td>West</td><td>large</td><td>1</td><td>1</td></tr><tr><td>USA</td><td>California</td><td>West</td><td>micro</td><td>2</td><td>2</td></tr><tr><td>USA</td><td>Colorado</td><td>Southwest</td><td>brewpub</td><td>1</td><td>1</td></tr><tr><td>USA</td><td>Colorado</td><td>Southwest</td><td>large</td><td>1</td><td>1</td></tr><tr><td>USA</td><td>Colorado</td><td>Southwest</td><td>micro</td><td>1</td><td>1</td></tr><tr><td>USA</td><td>Colorado</td><td>Southwest</td><td>proprietor</td><td>1</td><td>1</td></tr><tr><td>USA</td><td>Delaware</td><td>West</td><td>micro</td><td>1</td><td>1</td></tr><tr><td>USA</td><td>Idaho</td><td>Northwest</td><td>large</td><td>1</td><td>1</td></tr><tr><td>USA</td><td>Illinois</td><td>North-Central</td><td>micro</td><td>1</td><td>1</td></tr><tr><td>USA</td><td>Indiana</td><td>North-Central</td><td>micro</td><td>3</td><td>3</td></tr><tr><td>USA</td><td>Iowa</td><td>West</td><td>micro</td><td>1</td><td>1</td></tr><tr><td>USA</td><td>Maryland</td><td>West</td><td>contract</td><td>1</td><td>1</td></tr><tr><td>USA</td><td>Massachusetts</td><td>Northeast</td><td>micro</td><td>1</td><td>1</td></tr><tr><td>USA</td><td>Michigan</td><td>North-Central</td><td>micro</td><td>1</td><td>1</td></tr><tr><td>USA</td><td>Minnesota</td><td>North-Central</td><td>micro</td><td>3</td><td>3</td></tr><tr><td>USA</td><td>Mississippi</td><td>West</td><td>micro</td><td>1</td><td>1</td></tr><tr><td>USA</td><td>Nevada</td><td>West</td><td>micro</td><td>1</td><td>1</td></tr><tr><td>USA</td><td>New York</td><td>Northeast</td><td>brewpub</td><td>2</td><td>2</td></tr><tr><td>USA</td><td>North Carolina</td><td>Southeast</td><td>brewpub</td><td>1</td><td>1</td></tr><tr><td>USA</td><td>North Carolina</td><td>Southeast</td><td>micro</td><td>1</td><td>1</td></tr><tr><td>USA</td><td>Ohio</td><td>Southeast</td><td>brewpub</td><td>1</td><td>1</td></tr><tr><td>USA</td><td>Ohio</td><td>Southeast</td><td>micro</td><td>1</td><td>1</td></tr><tr><td>USA</td><td>Oklahoma</td><td>Southwest</td><td>micro</td><td>1</td><td>1</td></tr><tr><td>USA</td><td>Oregon</td><td>Northwest</td><td>brewpub</td><td>2</td><td>2</td></tr><tr><td>USA</td><td>Oregon</td><td>Northwest</td><td>large</td><td>4</td><td>4</td></tr><tr><td>USA</td><td>Pennsylvania</td><td>Southeast</td><td>micro</td><td>1</td><td>1</td></tr><tr><td>USA</td><td>South Carolina</td><td>Southeast</td><td>brewpub</td><td>1</td><td>1</td></tr><tr><td>USA</td><td>Texas</td><td>Southwest</td><td>micro</td><td>2</td><td>2</td></tr><tr><td>USA</td><td>Vermont</td><td>West</td><td>micro</td><td>1</td><td>1</td></tr><tr><td>USA</td><td>Virginia</td><td>Southeast</td><td>micro</td><td>1</td><td>1</td></tr><tr><td>USA</td><td>Washington</td><td>Northwest</td><td>brewpub</td><td>1</td><td>1</td></tr><tr><td>USA</td><td>Washington</td><td>Northwest</td><td>closed</td><td>1</td><td>1</td></tr><tr><td>USA</td><td>Wisconsin</td><td>North-Central</td><td>micro</td><td>2</td><td>2</td></tr></tbody></table></div>"
      ]
     },
     "metadata": {
      "application/vnd.databricks.v1+output": {
       "addedWidgets": {},
       "aggData": [],
       "aggError": "",
       "aggOverflow": false,
       "aggSchema": [],
       "aggSeriesLimitReached": false,
       "aggType": "",
       "arguments": {},
       "columnCustomDisplayInfos": {},
       "data": [
        [
         "Ireland",
         "Laois",
         "Laois",
         "micro",
         1,
         1
        ],
        [
         "USA",
         "Arizona",
         "Southwest",
         "micro",
         3,
         3
        ],
        [
         "USA",
         "California",
         "West",
         "closed",
         1,
         1
        ],
        [
         "USA",
         "California",
         "West",
         "large",
         1,
         1
        ],
        [
         "USA",
         "California",
         "West",
         "micro",
         2,
         2
        ],
        [
         "USA",
         "Colorado",
         "Southwest",
         "brewpub",
         1,
         1
        ],
        [
         "USA",
         "Colorado",
         "Southwest",
         "large",
         1,
         1
        ],
        [
         "USA",
         "Colorado",
         "Southwest",
         "micro",
         1,
         1
        ],
        [
         "USA",
         "Colorado",
         "Southwest",
         "proprietor",
         1,
         1
        ],
        [
         "USA",
         "Delaware",
         "West",
         "micro",
         1,
         1
        ],
        [
         "USA",
         "Idaho",
         "Northwest",
         "large",
         1,
         1
        ],
        [
         "USA",
         "Illinois",
         "North-Central",
         "micro",
         1,
         1
        ],
        [
         "USA",
         "Indiana",
         "North-Central",
         "micro",
         3,
         3
        ],
        [
         "USA",
         "Iowa",
         "West",
         "micro",
         1,
         1
        ],
        [
         "USA",
         "Maryland",
         "West",
         "contract",
         1,
         1
        ],
        [
         "USA",
         "Massachusetts",
         "Northeast",
         "micro",
         1,
         1
        ],
        [
         "USA",
         "Michigan",
         "North-Central",
         "micro",
         1,
         1
        ],
        [
         "USA",
         "Minnesota",
         "North-Central",
         "micro",
         3,
         3
        ],
        [
         "USA",
         "Mississippi",
         "West",
         "micro",
         1,
         1
        ],
        [
         "USA",
         "Nevada",
         "West",
         "micro",
         1,
         1
        ],
        [
         "USA",
         "New York",
         "Northeast",
         "brewpub",
         2,
         2
        ],
        [
         "USA",
         "North Carolina",
         "Southeast",
         "brewpub",
         1,
         1
        ],
        [
         "USA",
         "North Carolina",
         "Southeast",
         "micro",
         1,
         1
        ],
        [
         "USA",
         "Ohio",
         "Southeast",
         "brewpub",
         1,
         1
        ],
        [
         "USA",
         "Ohio",
         "Southeast",
         "micro",
         1,
         1
        ],
        [
         "USA",
         "Oklahoma",
         "Southwest",
         "micro",
         1,
         1
        ],
        [
         "USA",
         "Oregon",
         "Northwest",
         "brewpub",
         2,
         2
        ],
        [
         "USA",
         "Oregon",
         "Northwest",
         "large",
         4,
         4
        ],
        [
         "USA",
         "Pennsylvania",
         "Southeast",
         "micro",
         1,
         1
        ],
        [
         "USA",
         "South Carolina",
         "Southeast",
         "brewpub",
         1,
         1
        ],
        [
         "USA",
         "Texas",
         "Southwest",
         "micro",
         2,
         2
        ],
        [
         "USA",
         "Vermont",
         "West",
         "micro",
         1,
         1
        ],
        [
         "USA",
         "Virginia",
         "Southeast",
         "micro",
         1,
         1
        ],
        [
         "USA",
         "Washington",
         "Northwest",
         "brewpub",
         1,
         1
        ],
        [
         "USA",
         "Washington",
         "Northwest",
         "closed",
         1,
         1
        ],
        [
         "USA",
         "Wisconsin",
         "North-Central",
         "micro",
         2,
         2
        ]
       ],
       "datasetInfos": [],
       "dbfsResultPath": null,
       "isJsonSchema": true,
       "metadata": {},
       "overflow": false,
       "plotOptions": {
        "customPlotOptions": {},
        "displayType": "table",
        "pivotAggregation": null,
        "pivotColumns": null,
        "xColumns": null,
        "yColumns": null
       },
       "removedWidgets": [],
       "schema": [
        {
         "metadata": "{}",
         "name": "country",
         "type": "\"string\""
        },
        {
         "metadata": "{}",
         "name": "state_province",
         "type": "\"string\""
        },
        {
         "metadata": "{}",
         "name": "region",
         "type": "\"string\""
        },
        {
         "metadata": "{}",
         "name": "brewery_type",
         "type": "\"string\""
        },
        {
         "metadata": "{}",
         "name": "quantity",
         "type": "\"long\""
        },
        {
         "metadata": "{}",
         "name": "breweries",
         "type": "\"long\""
        }
       ],
       "type": "table"
      }
     },
     "output_type": "display_data"
    }
   ],
   "source": [
    "df_silver_corrected = df_silver.withColumn(\"country\", when(col(\"country\") == \"United States\", \"USA\").otherwise(col(\"country\")))\n",
    "\n",
    "# Adicionar a coluna region com base na state_province\n",
    "df_with_region = df_silver_corrected \\\n",
    "    .withColumn(\"region\", \n",
    "                when(col(\"country\") == 'USA', \n",
    "                     when(col(\"state_province\").isin([\"Washington\", \"Oregon\", \"Idaho\", \"Montana\", \"Wyoming\"]), \"Northwest\")\n",
    "                     .when(col(\"state_province\").isin([\"Minnesota\", \"Wisconsin\", \"Michigan\", \"Illinois\", \"Indiana\"]), \"North-Central\")\n",
    "                     .when(col(\"state_province\").isin([\"New York\", \"New Jersey\", \"Massachusetts\", \"Connecticut\", \"Rhode Island\"]), \"Northeast\")\n",
    "                     .when(col(\"state_province\").isin([\"Ohio\", \"Pennsylvania\", \"Virginia\", \"North Carolina\", \"South Carolina\"]), \"Southeast\")\n",
    "                     .when(col(\"state_province\").isin([\"Texas\", \"Oklahoma\", \"Arizona\", \"New Mexico\", \"Colorado\"]), \"Southwest\")\n",
    "                     .otherwise(\"West\"))\n",
    "                .when(col(\"country\") == 'Ireland', \n",
    "                      when(col(\"state_province\") == \"Laois\", \"Laois\")\n",
    "                      .when(col(\"state_province\") == \"Dublin\", \"Dublin\")\n",
    "                      .when(col(\"state_province\").isin([\"Limerick\", \"Cork\", \"Waterford\"]), \"Munster\")\n",
    "                      .when(col(\"state_province\").isin([\"Galway\", \"Sligo\", \"Leitrim\"]), \"Connacht\")\n",
    "                      .when(col(\"state_province\").isin([\"Belfast\", \"Derry\"]), \"Ulster\")\n",
    "                      .otherwise(\"Leinster\"))\n",
    "                .otherwise(\"Unknown\")) \\\n",
    "    .withColumn(\"country_region\", col(\"country\") + \"_\" + col(\"region\"))\n",
    "\n",
    "# Calcular a quantidade de cervejas por estado, tipo, país e região\n",
    "aggregated_df = df_with_region \\\n",
    "    .groupBy(\"country\", \"state_province\", \"region\", \"brewery_type\") \\\n",
    "    .agg(\n",
    "        count(\"*\").alias(\"quantity\"),\n",
    "        countDistinct(\"brewery_id\").alias(\"breweries\")\n",
    "    ) \\\n",
    "    .orderBy(\"country\", \"state_province\", \"region\", \"brewery_type\")\n",
    "\n",
    "# Mostrar os resultados\n",
    "aggregated_df.display()"
   ]
  },
  {
   "cell_type": "code",
   "execution_count": 0,
   "metadata": {
    "application/vnd.databricks.v1+cell": {
     "cellMetadata": {
      "byteLimit": 2048000,
      "implicitDf": true,
      "rowLimit": 10000
     },
     "inputWidgets": {},
     "nuid": "dcd65d5d-acbf-41d6-b326-46cf311e42c8",
     "showTitle": false,
     "title": ""
    }
   },
   "outputs": [
    {
     "output_type": "display_data",
     "data": {
      "text/html": [
       "<style scoped>\n",
       "  .table-result-container {\n",
       "    max-height: 300px;\n",
       "    overflow: auto;\n",
       "  }\n",
       "  table, th, td {\n",
       "    border: 1px solid black;\n",
       "    border-collapse: collapse;\n",
       "  }\n",
       "  th, td {\n",
       "    padding: 5px;\n",
       "  }\n",
       "  th {\n",
       "    text-align: left;\n",
       "  }\n",
       "</style><div class='table-result-container'><table class='table-result'><thead style='background-color: white'><tr></tr></thead><tbody></tbody></table></div>"
      ]
     },
     "metadata": {
      "application/vnd.databricks.v1+output": {
       "addedWidgets": {},
       "aggData": [],
       "aggError": "",
       "aggOverflow": false,
       "aggSchema": [],
       "aggSeriesLimitReached": false,
       "aggType": "",
       "arguments": {},
       "columnCustomDisplayInfos": {},
       "data": [],
       "datasetInfos": [],
       "dbfsResultPath": null,
       "isJsonSchema": true,
       "metadata": {
        "dataframeName": null
       },
       "overflow": false,
       "plotOptions": {
        "customPlotOptions": {},
        "displayType": "table",
        "pivotAggregation": null,
        "pivotColumns": null,
        "xColumns": null,
        "yColumns": null
       },
       "removedWidgets": [],
       "schema": [],
       "type": "table"
      }
     },
     "output_type": "display_data"
    }
   ],
   "source": [
    "%sql\n",
    "CREATE SCHEMA IF NOT EXISTS gold;"
   ]
  },
  {
   "cell_type": "code",
   "execution_count": 0,
   "metadata": {
    "application/vnd.databricks.v1+cell": {
     "cellMetadata": {
      "byteLimit": 2048000,
      "rowLimit": 10000
     },
     "inputWidgets": {},
     "nuid": "c8916215-470e-4c8d-a4ae-4e3f1546db6b",
     "showTitle": false,
     "title": ""
    }
   },
   "outputs": [],
   "source": [
    "# Salvar o DataFrame agregado como uma tabela Delta na camada Gold e particionar por region como solicitado\n",
    "aggregated_df.write \\\n",
    "    .format(\"delta\") \\\n",
    "    .mode(\"overwrite\") \\\n",
    "    .partitionBy(\"region\") \\\n",
    "    .saveAsTable(\"gold.tbl_g_breweries\")"
   ]
  },
  {
   "cell_type": "code",
   "execution_count": 0,
   "metadata": {
    "application/vnd.databricks.v1+cell": {
     "cellMetadata": {
      "byteLimit": 2048000,
      "implicitDf": true,
      "rowLimit": 10000
     },
     "inputWidgets": {},
     "nuid": "f4d8dc8e-2511-4f40-a77a-e447b36fde78",
     "showTitle": false,
     "title": ""
    }
   },
   "outputs": [
    {
     "output_type": "display_data",
     "data": {
      "text/html": [
       "<style scoped>\n",
       "  .table-result-container {\n",
       "    max-height: 300px;\n",
       "    overflow: auto;\n",
       "  }\n",
       "  table, th, td {\n",
       "    border: 1px solid black;\n",
       "    border-collapse: collapse;\n",
       "  }\n",
       "  th, td {\n",
       "    padding: 5px;\n",
       "  }\n",
       "  th {\n",
       "    text-align: left;\n",
       "  }\n",
       "</style><div class='table-result-container'><table class='table-result'><thead style='background-color: white'><tr><th>country</th><th>state_province</th><th>region</th><th>brewery_type</th><th>quantity</th><th>breweries</th></tr></thead><tbody><tr><td>USA</td><td>California</td><td>West</td><td>closed</td><td>1</td><td>1</td></tr><tr><td>USA</td><td>California</td><td>West</td><td>large</td><td>1</td><td>1</td></tr><tr><td>USA</td><td>California</td><td>West</td><td>micro</td><td>2</td><td>2</td></tr><tr><td>USA</td><td>Delaware</td><td>West</td><td>micro</td><td>1</td><td>1</td></tr><tr><td>USA</td><td>Iowa</td><td>West</td><td>micro</td><td>1</td><td>1</td></tr><tr><td>USA</td><td>Maryland</td><td>West</td><td>contract</td><td>1</td><td>1</td></tr><tr><td>USA</td><td>Mississippi</td><td>West</td><td>micro</td><td>1</td><td>1</td></tr><tr><td>USA</td><td>Nevada</td><td>West</td><td>micro</td><td>1</td><td>1</td></tr><tr><td>USA</td><td>Vermont</td><td>West</td><td>micro</td><td>1</td><td>1</td></tr><tr><td>USA</td><td>Arizona</td><td>Southwest</td><td>micro</td><td>3</td><td>3</td></tr><tr><td>USA</td><td>Colorado</td><td>Southwest</td><td>brewpub</td><td>1</td><td>1</td></tr><tr><td>USA</td><td>Colorado</td><td>Southwest</td><td>large</td><td>1</td><td>1</td></tr><tr><td>USA</td><td>Colorado</td><td>Southwest</td><td>micro</td><td>1</td><td>1</td></tr><tr><td>USA</td><td>Colorado</td><td>Southwest</td><td>proprietor</td><td>1</td><td>1</td></tr><tr><td>USA</td><td>Oklahoma</td><td>Southwest</td><td>micro</td><td>1</td><td>1</td></tr><tr><td>USA</td><td>Texas</td><td>Southwest</td><td>micro</td><td>2</td><td>2</td></tr><tr><td>USA</td><td>North Carolina</td><td>Southeast</td><td>brewpub</td><td>1</td><td>1</td></tr><tr><td>USA</td><td>North Carolina</td><td>Southeast</td><td>micro</td><td>1</td><td>1</td></tr><tr><td>USA</td><td>Ohio</td><td>Southeast</td><td>brewpub</td><td>1</td><td>1</td></tr><tr><td>USA</td><td>Ohio</td><td>Southeast</td><td>micro</td><td>1</td><td>1</td></tr><tr><td>USA</td><td>Pennsylvania</td><td>Southeast</td><td>micro</td><td>1</td><td>1</td></tr><tr><td>USA</td><td>South Carolina</td><td>Southeast</td><td>brewpub</td><td>1</td><td>1</td></tr><tr><td>USA</td><td>Virginia</td><td>Southeast</td><td>micro</td><td>1</td><td>1</td></tr><tr><td>USA</td><td>Idaho</td><td>Northwest</td><td>large</td><td>1</td><td>1</td></tr><tr><td>USA</td><td>Oregon</td><td>Northwest</td><td>brewpub</td><td>2</td><td>2</td></tr><tr><td>USA</td><td>Oregon</td><td>Northwest</td><td>large</td><td>4</td><td>4</td></tr><tr><td>USA</td><td>Washington</td><td>Northwest</td><td>brewpub</td><td>1</td><td>1</td></tr><tr><td>USA</td><td>Washington</td><td>Northwest</td><td>closed</td><td>1</td><td>1</td></tr><tr><td>USA</td><td>Illinois</td><td>North-Central</td><td>micro</td><td>1</td><td>1</td></tr><tr><td>USA</td><td>Indiana</td><td>North-Central</td><td>micro</td><td>3</td><td>3</td></tr><tr><td>USA</td><td>Michigan</td><td>North-Central</td><td>micro</td><td>1</td><td>1</td></tr><tr><td>USA</td><td>Minnesota</td><td>North-Central</td><td>micro</td><td>3</td><td>3</td></tr><tr><td>USA</td><td>Wisconsin</td><td>North-Central</td><td>micro</td><td>2</td><td>2</td></tr><tr><td>USA</td><td>Massachusetts</td><td>Northeast</td><td>micro</td><td>1</td><td>1</td></tr><tr><td>USA</td><td>New York</td><td>Northeast</td><td>brewpub</td><td>2</td><td>2</td></tr><tr><td>Ireland</td><td>Laois</td><td>Laois</td><td>micro</td><td>1</td><td>1</td></tr></tbody></table></div>"
      ]
     },
     "metadata": {
      "application/vnd.databricks.v1+output": {
       "addedWidgets": {},
       "aggData": [],
       "aggError": "",
       "aggOverflow": false,
       "aggSchema": [],
       "aggSeriesLimitReached": false,
       "aggType": "",
       "arguments": {},
       "columnCustomDisplayInfos": {},
       "data": [
        [
         "USA",
         "California",
         "West",
         "closed",
         1,
         1
        ],
        [
         "USA",
         "California",
         "West",
         "large",
         1,
         1
        ],
        [
         "USA",
         "California",
         "West",
         "micro",
         2,
         2
        ],
        [
         "USA",
         "Delaware",
         "West",
         "micro",
         1,
         1
        ],
        [
         "USA",
         "Iowa",
         "West",
         "micro",
         1,
         1
        ],
        [
         "USA",
         "Maryland",
         "West",
         "contract",
         1,
         1
        ],
        [
         "USA",
         "Mississippi",
         "West",
         "micro",
         1,
         1
        ],
        [
         "USA",
         "Nevada",
         "West",
         "micro",
         1,
         1
        ],
        [
         "USA",
         "Vermont",
         "West",
         "micro",
         1,
         1
        ],
        [
         "USA",
         "Arizona",
         "Southwest",
         "micro",
         3,
         3
        ],
        [
         "USA",
         "Colorado",
         "Southwest",
         "brewpub",
         1,
         1
        ],
        [
         "USA",
         "Colorado",
         "Southwest",
         "large",
         1,
         1
        ],
        [
         "USA",
         "Colorado",
         "Southwest",
         "micro",
         1,
         1
        ],
        [
         "USA",
         "Colorado",
         "Southwest",
         "proprietor",
         1,
         1
        ],
        [
         "USA",
         "Oklahoma",
         "Southwest",
         "micro",
         1,
         1
        ],
        [
         "USA",
         "Texas",
         "Southwest",
         "micro",
         2,
         2
        ],
        [
         "USA",
         "North Carolina",
         "Southeast",
         "brewpub",
         1,
         1
        ],
        [
         "USA",
         "North Carolina",
         "Southeast",
         "micro",
         1,
         1
        ],
        [
         "USA",
         "Ohio",
         "Southeast",
         "brewpub",
         1,
         1
        ],
        [
         "USA",
         "Ohio",
         "Southeast",
         "micro",
         1,
         1
        ],
        [
         "USA",
         "Pennsylvania",
         "Southeast",
         "micro",
         1,
         1
        ],
        [
         "USA",
         "South Carolina",
         "Southeast",
         "brewpub",
         1,
         1
        ],
        [
         "USA",
         "Virginia",
         "Southeast",
         "micro",
         1,
         1
        ],
        [
         "USA",
         "Idaho",
         "Northwest",
         "large",
         1,
         1
        ],
        [
         "USA",
         "Oregon",
         "Northwest",
         "brewpub",
         2,
         2
        ],
        [
         "USA",
         "Oregon",
         "Northwest",
         "large",
         4,
         4
        ],
        [
         "USA",
         "Washington",
         "Northwest",
         "brewpub",
         1,
         1
        ],
        [
         "USA",
         "Washington",
         "Northwest",
         "closed",
         1,
         1
        ],
        [
         "USA",
         "Illinois",
         "North-Central",
         "micro",
         1,
         1
        ],
        [
         "USA",
         "Indiana",
         "North-Central",
         "micro",
         3,
         3
        ],
        [
         "USA",
         "Michigan",
         "North-Central",
         "micro",
         1,
         1
        ],
        [
         "USA",
         "Minnesota",
         "North-Central",
         "micro",
         3,
         3
        ],
        [
         "USA",
         "Wisconsin",
         "North-Central",
         "micro",
         2,
         2
        ],
        [
         "USA",
         "Massachusetts",
         "Northeast",
         "micro",
         1,
         1
        ],
        [
         "USA",
         "New York",
         "Northeast",
         "brewpub",
         2,
         2
        ],
        [
         "Ireland",
         "Laois",
         "Laois",
         "micro",
         1,
         1
        ]
       ],
       "datasetInfos": [],
       "dbfsResultPath": null,
       "isJsonSchema": true,
       "metadata": {
        "dataframeName": "_sqldf",
        "executionCount": 25
       },
       "overflow": false,
       "plotOptions": {
        "customPlotOptions": {},
        "displayType": "table",
        "pivotAggregation": null,
        "pivotColumns": null,
        "xColumns": null,
        "yColumns": null
       },
       "removedWidgets": [],
       "schema": [
        {
         "metadata": "{}",
         "name": "country",
         "type": "\"string\""
        },
        {
         "metadata": "{}",
         "name": "state_province",
         "type": "\"string\""
        },
        {
         "metadata": "{}",
         "name": "region",
         "type": "\"string\""
        },
        {
         "metadata": "{}",
         "name": "brewery_type",
         "type": "\"string\""
        },
        {
         "metadata": "{}",
         "name": "quantity",
         "type": "\"long\""
        },
        {
         "metadata": "{}",
         "name": "breweries",
         "type": "\"long\""
        }
       ],
       "type": "table"
      }
     },
     "output_type": "display_data"
    }
   ],
   "source": [
    "%sql\n",
    "\n",
    "select * from gold.tbl_g_breweries"
   ]
  }
 ],
 "metadata": {
  "application/vnd.databricks.v1+notebook": {
   "dashboards": [],
   "environmentMetadata": null,
   "language": "python",
   "notebookMetadata": {
    "mostRecentlyExecutedCommandWithImplicitDF": {
     "commandId": 4055039250437815,
     "dataframes": [
      "_sqldf"
     ]
    },
    "pythonIndentUnit": 4
   },
   "notebookName": "gold",
   "widgets": {}
  }
 },
 "nbformat": 4,
 "nbformat_minor": 0
}
